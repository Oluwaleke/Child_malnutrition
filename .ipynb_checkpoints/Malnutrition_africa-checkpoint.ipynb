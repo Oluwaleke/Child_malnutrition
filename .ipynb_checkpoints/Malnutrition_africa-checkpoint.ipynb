{
 "cells": [
  {
   "cell_type": "markdown",
   "id": "2116325a",
   "metadata": {},
   "source": [
    "### Table of Contents\n",
    "\n",
    "* [Data Sources](#datasources)\n",
    "* [Data Importing](#dataimporting)\n",
    "* [Data Cleaning](#datacleaning)\n",
    "* [Visualizations for global malnutrition problem](#visualizations)\n",
    "     1. [Histograms](#histogram)\n",
    "     2. [Boxplots](#boxplot)\n",
    "     3. [Heatmap](#heatmap)\n",
    "     4. [US malnutrtion graph](#US)\n",
    "     5. [Top 5 countries with the LEAST malnutrition problem graphs](#top5)\n",
    "     6. [Top 5 countries with the MOST malnutrition probelm graphs](#bot5)   \n",
    "     7. [PCA on Global malnutrition data](#PCA)\n",
    "     8. [Continent Analysis](#continent)\n",
    "     9. [Mapping with Geopandas](#map)\n",
    "     10. [Animation of Map over time](#animation)\n",
    "* [COVID-19 Analysis](#covid)\n",
    "     1. [Histogram of COVID-19 death (min-max normalized)](#histcovid)\n",
    "     2. [Highest % of COVID-19 deaths in the world](#highestdeath)\n",
    "     3. [Barplot comparing 2020 and 2021](#covidbar)\n",
    "     4. [Linear regression of malnutrition % and  COVID-19 death %](#covidlinear)\n",
    "     5. [Creating a scoring system for the countries to compare malnutrition to COVID-19 deathrate](#covidscore)\n",
    "    \n",
    "    "
   ]
  },
  {
   "cell_type": "markdown",
   "id": "52ea7c50",
   "metadata": {},
   "source": [
    "## I. Data Sources <a class=\"anchor\" id=\"datasources\"></a>"
   ]
  },
  {
   "cell_type": "markdown",
   "id": "3dd18cf9",
   "metadata": {},
   "source": [
    "1. The malnutrtion data is from UNICEF.org and it has the ratio of kids under 5 with stunt/severe stunting, wasted/severe wasted, and overweight problems at country-level from 1970 to 2021.\\\n",
    "(datalink: https://data.unicef.org/resources/data_explorer/unicef_f/?ag=UNICEF&df=GLOBAL_DATAFLOW&ver=1.0&dq=.NT_ANT_HAZ_NE2+NT_ANT_HAZ_NE3..&startPeriod=2016&endPeriod=2021).\n",
    "\n",
    "2. COVID deaths data from OurWorldInData.org.\\\n",
    "(datalink: https://ourworldindata.org/coronavirus-source-data)\n",
    "\n",
    "3. Continent & Country Data from Kaggle.\\\n",
    "(datalink: https://www.kaggle.com/statchaitya/country-to-continent) "
   ]
  },
  {
   "cell_type": "markdown",
   "id": "7b24de0a",
   "metadata": {},
   "source": [
    "The data sources described above will be used to extract relevant data that we will use for our analysis."
   ]
  },
  {
   "cell_type": "markdown",
   "id": "3496a031",
   "metadata": {},
   "source": [
    "## II. Data Importing<a class=\"anchor\" id=\"dataimporting\"></a>"
   ]
  },
  {
   "cell_type": "code",
   "execution_count": null,
   "id": "11b27a16",
   "metadata": {},
   "outputs": [],
   "source": [
    "# download necessary packages\n",
    "\n",
    "# basic packages\n",
    "import pandas as pd  #dataframe\n",
    "import numpy as np  #calculation\n",
    "import scipy as sp #calculation\n",
    "# regression analysis\n",
    "from sklearn import linear_model #linear regression\n",
    "import statsmodels.api as sm #linear regression model\n",
    "# graphing\n",
    "import matplotlib.pyplot as plt #plot\n",
    "import seaborn as sns #plot\n",
    "from scipy.interpolate import interp1d #interpolation\n",
    "from seaborn import heatmap #heatmap\n",
    "# geopandas\n",
    "import os\n",
    "#import geopandas as gpd\n",
    "#import descartes\n",
    "# statistics\n",
    "from sklearn.preprocessing import MinMaxScaler, normalize\n",
    "# avoid the redlines\n",
    "import warnings\n",
    "warnings.filterwarnings('ignore')"
   ]
  },
  {
   "cell_type": "code",
   "execution_count": null,
   "id": "45d8a370",
   "metadata": {},
   "outputs": [],
   "source": [
    "malnutrition_data = pd.read_excel(os.getcwd()+'/Malnutrition1.xlsx')\n",
    "display(malnutrition_data[:3])"
   ]
  },
  {
   "cell_type": "code",
   "execution_count": null,
   "id": "00355be4",
   "metadata": {},
   "outputs": [],
   "source": [
    "malnutrition_data['World Bank Region'].unique() "
   ]
  },
  {
   "cell_type": "code",
   "execution_count": null,
   "id": "83eb2093",
   "metadata": {},
   "outputs": [],
   "source": [
    "gini_data = pd.read_excel(os.getcwd()+'/gini_africa.xlsx')\n",
    "display(gini_data[:3])"
   ]
  },
  {
   "cell_type": "code",
   "execution_count": null,
   "id": "1c35eddb",
   "metadata": {},
   "outputs": [],
   "source": [
    "gini_data['Subregion'].unique() "
   ]
  },
  {
   "cell_type": "code",
   "execution_count": null,
   "id": "99fecea6",
   "metadata": {
    "scrolled": true
   },
   "outputs": [],
   "source": [
    "gdp_data = pd.read_excel(os.getcwd()+'/GDP_africa.xlsx')\n",
    "display(gdp_data[:3])"
   ]
  },
  {
   "cell_type": "code",
   "execution_count": null,
   "id": "14c7bfac",
   "metadata": {
    "scrolled": true
   },
   "outputs": [],
   "source": [
    "income_per_person = pd.read_csv(os.getcwd()+'/income_per_person_gdppercapita_ppp_inflation_adjusted.csv')\n",
    "display(income_per_person[:3])"
   ]
  },
  {
   "cell_type": "markdown",
   "id": "9085127c",
   "metadata": {},
   "source": [
    "## III. Data Cleaning<a class=\"anchor\" id=\"datacleaning\"></a>"
   ]
  },
  {
   "cell_type": "markdown",
   "id": "a2610c49",
   "metadata": {},
   "source": [
    "#### Malnutrition Dataset"
   ]
  },
  {
   "cell_type": "code",
   "execution_count": null,
   "id": "2e1075a3",
   "metadata": {
    "scrolled": true
   },
   "outputs": [],
   "source": [
    "#Cleaning Malnutrition dataset\n",
    "malnutrition_data.isnull().sum()"
   ]
  },
  {
   "cell_type": "code",
   "execution_count": null,
   "id": "1d71a4b4",
   "metadata": {},
   "outputs": [],
   "source": [
    "from sklearn.impute import SimpleImputer\n",
    "import numpy as np\n",
    "malnutrition_data= malnutrition_data.dropna(subset = ['Wasting','Stunting', 'Underweight' ])\n",
    "imputer = SimpleImputer(missing_values = np.nan, strategy = 'median')\n",
    "malnutrition_data[['Severe Wasting']] = imputer.fit_transform(malnutrition_data[['Severe Wasting']])\n",
    "malnutrition_data[['Overweight']]= imputer.fit_transform(malnutrition_data[['Overweight']])\n",
    "print(\"Null values after updating dataset\")\n",
    "print(\"\\n\")\n",
    "print(malnutrition_data.isnull().sum())"
   ]
  },
  {
   "cell_type": "markdown",
   "id": "1b9441f4",
   "metadata": {},
   "source": [
    "#### Gini Dataset"
   ]
  },
  {
   "cell_type": "code",
   "execution_count": null,
   "id": "0617323d",
   "metadata": {
    "scrolled": true
   },
   "outputs": [],
   "source": [
    "#cleaning Gini Dataset\n",
    "gini_data.isnull().sum()"
   ]
  },
  {
   "cell_type": "code",
   "execution_count": null,
   "id": "30f42fa9",
   "metadata": {},
   "outputs": [],
   "source": [
    "gini_data= gini_data.dropna(subset = ['Years','WB Gini[4] %','CIA Gini[6] %' ])                                      \n",
    "print(\"Null values after updating dataset\")\n",
    "print(\"\\n\")\n",
    "print(gini_data.isnull().sum())"
   ]
  },
  {
   "cell_type": "markdown",
   "id": "94c8908b",
   "metadata": {},
   "source": [
    "#### Income per person"
   ]
  },
  {
   "cell_type": "code",
   "execution_count": null,
   "id": "d4dc9f98",
   "metadata": {},
   "outputs": [],
   "source": [
    "#cleaning income per person\n",
    "income_per_person.isnull().sum()"
   ]
  },
  {
   "cell_type": "code",
   "execution_count": null,
   "id": "b9c93252",
   "metadata": {},
   "outputs": [],
   "source": [
    "income_per_person = income_per_person.melt(id_vars=['country'], var_name='year', value_name='Income_per_person')"
   ]
  },
  {
   "cell_type": "code",
   "execution_count": null,
   "id": "5cf4eaa4",
   "metadata": {},
   "outputs": [],
   "source": [
    "gdp_data.isnull().sum()"
   ]
  },
  {
   "cell_type": "markdown",
   "id": "d8a5844d",
   "metadata": {},
   "source": [
    "#### Concatenating Datasets"
   ]
  },
  {
   "cell_type": "code",
   "execution_count": null,
   "id": "ff35c5c7",
   "metadata": {},
   "outputs": [],
   "source": [
    "#gdp and gini datasets\n",
    "economic_data = pd.concat([gdp_data,gini_data],axis=1)\n",
    "economic_data.head()"
   ]
  },
  {
   "cell_type": "code",
   "execution_count": null,
   "id": "20e1c600",
   "metadata": {},
   "outputs": [],
   "source": [
    "economic_data.isnull().sum()"
   ]
  },
  {
   "cell_type": "code",
   "execution_count": null,
   "id": "46d0c704",
   "metadata": {},
   "outputs": [],
   "source": [
    "economic_data= economic_data.dropna(subset = ['Country_gini','Subregion','Region','Years','WB Gini[4] %','CIA Gini[6] %' ])\n",
    "print(\"Null values after updating dataset\")\n",
    "print(\"\\n\")\n",
    "print(economic_data.isnull().sum())"
   ]
  },
  {
   "cell_type": "code",
   "execution_count": null,
   "id": "9a462822",
   "metadata": {},
   "outputs": [],
   "source": [
    "#malnutrition and gdp datasets\n",
    "malnutrition_gdp_data = pd.concat([malnutrition_data,gdp_data],axis=1)\n",
    "malnutrition_gdp_data.head()"
   ]
  },
  {
   "cell_type": "code",
   "execution_count": null,
   "id": "1c48d0be",
   "metadata": {},
   "outputs": [],
   "source": [
    "malnutrition_gdp_data.isnull().sum()"
   ]
  },
  {
   "cell_type": "code",
   "execution_count": null,
   "id": "2bb88395",
   "metadata": {},
   "outputs": [],
   "source": [
    "from sklearn.impute import SimpleImputer\n",
    "import numpy as np\n",
    "malnutrition_gdp_data= malnutrition_gdp_data.dropna(subset = ['Country_gdp' ])\n",
    "\n",
    "#imputer = SimpleImputer(missing_values = np.nan, strategy = 'median')\n",
    "#malnutrition_gdp_data[['Rank']] = imputer.fit_transform(malnutrition_gdp_data[['Rank']])\n",
    "#malnutrition_gdp_data[['Nominal GDP (Billion US$)[7][8]']]= imputer.fit_transform(malnutrition_gdp_data[['Nominal GDP (Billion US$)[7][8]']])\n",
    "#malnutrition_gdp_data[['Per Capita (US$)[7][8] ']]= imputer.fit_transform(malnutrition_gdp_data[['Per Capita (US$)[7][8] ']])\n",
    "print(\"Null values after updating dataset\")\n",
    "print(\"\\n\")\n",
    "print(malnutrition_gdp_data.isnull().sum())"
   ]
  },
  {
   "cell_type": "code",
   "execution_count": null,
   "id": "4bbea377",
   "metadata": {},
   "outputs": [],
   "source": []
  },
  {
   "cell_type": "code",
   "execution_count": null,
   "id": "c8ba64cc",
   "metadata": {},
   "outputs": [],
   "source": []
  }
 ],
 "metadata": {
  "kernelspec": {
   "display_name": "Python 3 (ipykernel)",
   "language": "python",
   "name": "python3"
  },
  "language_info": {
   "codemirror_mode": {
    "name": "ipython",
    "version": 3
   },
   "file_extension": ".py",
   "mimetype": "text/x-python",
   "name": "python",
   "nbconvert_exporter": "python",
   "pygments_lexer": "ipython3",
   "version": "3.9.12"
  }
 },
 "nbformat": 4,
 "nbformat_minor": 5
}
