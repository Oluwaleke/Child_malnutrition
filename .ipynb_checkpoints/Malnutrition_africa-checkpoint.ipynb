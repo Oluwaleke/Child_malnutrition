{
 "cells": [
  {
   "cell_type": "markdown",
   "id": "2116325a",
   "metadata": {},
   "source": [
    "### Table of Contents\n",
    "\n",
    "* [Data Sources](#datasources)\n",
    "* [Data Importing](#dataimporting)\n",
    "* [Data Cleaning](#datacleaning)\n",
    "* [Visualizations for global malnutrition problem](#visualizations)\n",
    "     1. [Histograms](#histogram)\n",
    "     2. [Boxplots](#boxplot)\n",
    "     3. [Heatmap](#heatmap)\n",
    "     4. [US malnutrtion graph](#US)\n",
    "     5. [Top 5 countries with the LEAST malnutrition problem graphs](#top5)\n",
    "     6. [Top 5 countries with the MOST malnutrition probelm graphs](#bot5)   \n",
    "     7. [PCA on Global malnutrition data](#PCA)\n",
    "     8. [Continent Analysis](#continent)\n",
    "     9. [Mapping with Geopandas](#map)\n",
    "     10. [Animation of Map over time](#animation)\n",
    "* [COVID-19 Analysis](#covid)\n",
    "     1. [Histogram of COVID-19 death (min-max normalized)](#histcovid)\n",
    "     2. [Highest % of COVID-19 deaths in the world](#highestdeath)\n",
    "     3. [Barplot comparing 2020 and 2021](#covidbar)\n",
    "     4. [Linear regression of malnutrition % and  COVID-19 death %](#covidlinear)\n",
    "     5. [Creating a scoring system for the countries to compare malnutrition to COVID-19 deathrate](#covidscore)\n",
    "    \n",
    "    "
   ]
  },
  {
   "cell_type": "markdown",
   "id": "52ea7c50",
   "metadata": {},
   "source": [
    "## I. Data Sources <a class=\"anchor\" id=\"datasources\"></a>"
   ]
  },
  {
   "cell_type": "markdown",
   "id": "3dd18cf9",
   "metadata": {},
   "source": [
    "1. The malnutrtion data is from UNICEF.org and it has the ratio of kids under 5 with stunt/severe stunting, wasted/severe wasted, and overweight problems at country-level from 1970 to 2021.\\\n",
    "(datalink: https://data.unicef.org/resources/data_explorer/unicef_f/?ag=UNICEF&df=GLOBAL_DATAFLOW&ver=1.0&dq=.NT_ANT_HAZ_NE2+NT_ANT_HAZ_NE3..&startPeriod=2016&endPeriod=2021).\n",
    "\n",
    "2. COVID deaths data from OurWorldInData.org.\\\n",
    "(datalink: https://ourworldindata.org/coronavirus-source-data)\n",
    "\n",
    "3. Continent & Country Data from Kaggle.\\\n",
    "(datalink: https://www.kaggle.com/statchaitya/country-to-continent) "
   ]
  },
  {
   "cell_type": "markdown",
   "id": "7b24de0a",
   "metadata": {},
   "source": [
    "The data sources described above will be used to extract relevant data that we will use for our analysis."
   ]
  },
  {
   "cell_type": "markdown",
   "id": "3496a031",
   "metadata": {},
   "source": [
    "## II. Data Importing<a class=\"anchor\" id=\"dataimporting\"></a>"
   ]
  },
  {
   "cell_type": "code",
   "execution_count": 1,
   "id": "11b27a16",
   "metadata": {},
   "outputs": [],
   "source": [
    "# download necessary packages\n",
    "\n",
    "# basic packages\n",
    "import pandas as pd  #dataframe\n",
    "import numpy as np  #calculation\n",
    "import scipy as sp #calculation\n",
    "# regression analysis\n",
    "from sklearn import linear_model #linear regression\n",
    "import statsmodels.api as sm #linear regression model\n",
    "# graphing\n",
    "import matplotlib.pyplot as plt #plot\n",
    "import seaborn as sns #plot\n",
    "from scipy.interpolate import interp1d #interpolation\n",
    "from seaborn import heatmap #heatmap\n",
    "# geopandas\n",
    "import os\n",
    "#import geopandas as gpd\n",
    "#import descartes\n",
    "# statistics\n",
    "from sklearn.preprocessing import MinMaxScaler, normalize\n",
    "# avoid the redlines\n",
    "import warnings\n",
    "warnings.filterwarnings('ignore')"
   ]
  },
  {
   "cell_type": "code",
   "execution_count": 2,
   "id": "45d8a370",
   "metadata": {},
   "outputs": [
    {
     "data": {
      "text/html": [
       "<div>\n",
       "<style scoped>\n",
       "    .dataframe tbody tr th:only-of-type {\n",
       "        vertical-align: middle;\n",
       "    }\n",
       "\n",
       "    .dataframe tbody tr th {\n",
       "        vertical-align: top;\n",
       "    }\n",
       "\n",
       "    .dataframe thead th {\n",
       "        text-align: right;\n",
       "    }\n",
       "</style>\n",
       "<table border=\"1\" class=\"dataframe\">\n",
       "  <thead>\n",
       "    <tr style=\"text-align: right;\">\n",
       "      <th></th>\n",
       "      <th>Country</th>\n",
       "      <th>Year*</th>\n",
       "      <th>Region</th>\n",
       "      <th>World Bank Income Classification</th>\n",
       "      <th>World Bank Region</th>\n",
       "      <th>Severe Wasting</th>\n",
       "      <th>Wasting</th>\n",
       "      <th>Overweight</th>\n",
       "      <th>Stunting</th>\n",
       "      <th>Underweight</th>\n",
       "      <th>U5 Population ('000s)</th>\n",
       "    </tr>\n",
       "  </thead>\n",
       "  <tbody>\n",
       "    <tr>\n",
       "      <th>0</th>\n",
       "      <td>ANGOLA</td>\n",
       "      <td>1996</td>\n",
       "      <td>Africa</td>\n",
       "      <td>Lower Middle Income</td>\n",
       "      <td>Sub-Saharan Africa</td>\n",
       "      <td>1.8</td>\n",
       "      <td>7.7</td>\n",
       "      <td>1.7</td>\n",
       "      <td>61.1</td>\n",
       "      <td>36.2</td>\n",
       "      <td>2749.750000</td>\n",
       "    </tr>\n",
       "    <tr>\n",
       "      <th>1</th>\n",
       "      <td>ANGOLA</td>\n",
       "      <td>2007</td>\n",
       "      <td>Africa</td>\n",
       "      <td>Lower Middle Income</td>\n",
       "      <td>Sub-Saharan Africa</td>\n",
       "      <td>4.3</td>\n",
       "      <td>8.2</td>\n",
       "      <td>NaN</td>\n",
       "      <td>29.2</td>\n",
       "      <td>15.6</td>\n",
       "      <td>3998.053955</td>\n",
       "    </tr>\n",
       "    <tr>\n",
       "      <th>2</th>\n",
       "      <td>ANGOLA</td>\n",
       "      <td>2015</td>\n",
       "      <td>Africa</td>\n",
       "      <td>Lower Middle Income</td>\n",
       "      <td>Sub-Saharan Africa</td>\n",
       "      <td>1.1</td>\n",
       "      <td>4.9</td>\n",
       "      <td>3.4</td>\n",
       "      <td>37.6</td>\n",
       "      <td>19.0</td>\n",
       "      <td>5192.357910</td>\n",
       "    </tr>\n",
       "  </tbody>\n",
       "</table>\n",
       "</div>"
      ],
      "text/plain": [
       "  Country   Year*  Region World Bank Income Classification  \\\n",
       "0   ANGOLA   1996  Africa              Lower Middle Income   \n",
       "1   ANGOLA   2007  Africa              Lower Middle Income   \n",
       "2   ANGOLA   2015  Africa              Lower Middle Income   \n",
       "\n",
       "    World Bank Region  Severe Wasting  Wasting  Overweight  Stunting  \\\n",
       "0  Sub-Saharan Africa             1.8      7.7         1.7      61.1   \n",
       "1  Sub-Saharan Africa             4.3      8.2         NaN      29.2   \n",
       "2  Sub-Saharan Africa             1.1      4.9         3.4      37.6   \n",
       "\n",
       "   Underweight  U5 Population ('000s)  \n",
       "0         36.2            2749.750000  \n",
       "1         15.6            3998.053955  \n",
       "2         19.0            5192.357910  "
      ]
     },
     "metadata": {},
     "output_type": "display_data"
    }
   ],
   "source": [
    "malnutrition_data = pd.read_excel(os.getcwd()+'/Malnutrition1.xlsx')\n",
    "display(malnutrition_data[:3])"
   ]
  },
  {
   "cell_type": "code",
   "execution_count": 3,
   "id": "00355be4",
   "metadata": {},
   "outputs": [
    {
     "data": {
      "text/plain": [
       "array(['Sub-Saharan Africa', 'Middle East & North Africa'], dtype=object)"
      ]
     },
     "execution_count": 3,
     "metadata": {},
     "output_type": "execute_result"
    }
   ],
   "source": [
    "malnutrition_data['World Bank Region'].unique() "
   ]
  },
  {
   "cell_type": "code",
   "execution_count": 4,
   "id": "83eb2093",
   "metadata": {},
   "outputs": [
    {
     "data": {
      "text/html": [
       "<div>\n",
       "<style scoped>\n",
       "    .dataframe tbody tr th:only-of-type {\n",
       "        vertical-align: middle;\n",
       "    }\n",
       "\n",
       "    .dataframe tbody tr th {\n",
       "        vertical-align: top;\n",
       "    }\n",
       "\n",
       "    .dataframe thead th {\n",
       "        text-align: right;\n",
       "    }\n",
       "</style>\n",
       "<table border=\"1\" class=\"dataframe\">\n",
       "  <thead>\n",
       "    <tr style=\"text-align: right;\">\n",
       "      <th></th>\n",
       "      <th>Country_gini</th>\n",
       "      <th>Subregion</th>\n",
       "      <th>Region</th>\n",
       "      <th>Years</th>\n",
       "      <th>WB Gini[4] %</th>\n",
       "      <th>CIA Gini[6] %</th>\n",
       "    </tr>\n",
       "  </thead>\n",
       "  <tbody>\n",
       "    <tr>\n",
       "      <th>0</th>\n",
       "      <td>Algeria</td>\n",
       "      <td>Northern Africa</td>\n",
       "      <td>Africa</td>\n",
       "      <td>2011.0</td>\n",
       "      <td>27.6</td>\n",
       "      <td>27.6</td>\n",
       "    </tr>\n",
       "    <tr>\n",
       "      <th>1</th>\n",
       "      <td>Angola</td>\n",
       "      <td>Middle Africa</td>\n",
       "      <td>Africa</td>\n",
       "      <td>2018.0</td>\n",
       "      <td>51.3</td>\n",
       "      <td>51.3</td>\n",
       "    </tr>\n",
       "    <tr>\n",
       "      <th>2</th>\n",
       "      <td>Benin</td>\n",
       "      <td>Western Africa</td>\n",
       "      <td>Africa</td>\n",
       "      <td>2018.0</td>\n",
       "      <td>37.8</td>\n",
       "      <td>47.8</td>\n",
       "    </tr>\n",
       "  </tbody>\n",
       "</table>\n",
       "</div>"
      ],
      "text/plain": [
       "  Country_gini        Subregion  Region   Years  WB Gini[4] %  CIA Gini[6] %\n",
       "0      Algeria  Northern Africa  Africa  2011.0          27.6           27.6\n",
       "1       Angola    Middle Africa  Africa  2018.0          51.3           51.3\n",
       "2        Benin   Western Africa  Africa  2018.0          37.8           47.8"
      ]
     },
     "metadata": {},
     "output_type": "display_data"
    }
   ],
   "source": [
    "gini_data = pd.read_excel(os.getcwd()+'/gini_africa.xlsx')\n",
    "display(gini_data[:3])"
   ]
  },
  {
   "cell_type": "code",
   "execution_count": 5,
   "id": "1c35eddb",
   "metadata": {},
   "outputs": [
    {
     "data": {
      "text/plain": [
       "array(['Northern Africa', 'Middle Africa', 'Western Africa',\n",
       "       'Southern Africa', 'Eastern Africa'], dtype=object)"
      ]
     },
     "execution_count": 5,
     "metadata": {},
     "output_type": "execute_result"
    }
   ],
   "source": [
    "gini_data['Subregion'].unique() "
   ]
  },
  {
   "cell_type": "code",
   "execution_count": 6,
   "id": "99fecea6",
   "metadata": {
    "scrolled": true
   },
   "outputs": [
    {
     "data": {
      "text/html": [
       "<div>\n",
       "<style scoped>\n",
       "    .dataframe tbody tr th:only-of-type {\n",
       "        vertical-align: middle;\n",
       "    }\n",
       "\n",
       "    .dataframe tbody tr th {\n",
       "        vertical-align: top;\n",
       "    }\n",
       "\n",
       "    .dataframe thead th {\n",
       "        text-align: right;\n",
       "    }\n",
       "</style>\n",
       "<table border=\"1\" class=\"dataframe\">\n",
       "  <thead>\n",
       "    <tr style=\"text-align: right;\">\n",
       "      <th></th>\n",
       "      <th>Rank</th>\n",
       "      <th>Country_gdp</th>\n",
       "      <th>Nominal GDP (Billion US$)[7][8]</th>\n",
       "      <th>Per Capita (US$)[7][8]</th>\n",
       "    </tr>\n",
       "  </thead>\n",
       "  <tbody>\n",
       "    <tr>\n",
       "      <th>0</th>\n",
       "      <td>1</td>\n",
       "      <td>Nigeria</td>\n",
       "      <td>510.588</td>\n",
       "      <td>2,355.688</td>\n",
       "    </tr>\n",
       "    <tr>\n",
       "      <th>1</th>\n",
       "      <td>2</td>\n",
       "      <td>Egypt</td>\n",
       "      <td>435.621</td>\n",
       "      <td>4,162.081</td>\n",
       "    </tr>\n",
       "    <tr>\n",
       "      <th>2</th>\n",
       "      <td>3</td>\n",
       "      <td>South Africa</td>\n",
       "      <td>426.166</td>\n",
       "      <td>6,979.440</td>\n",
       "    </tr>\n",
       "  </tbody>\n",
       "</table>\n",
       "</div>"
      ],
      "text/plain": [
       "  Rank   Country_gdp Nominal GDP (Billion US$)[7][8] Per Capita (US$)[7][8]\n",
       "0    1       Nigeria                         510.588              2,355.688\n",
       "1    2         Egypt                         435.621              4,162.081\n",
       "2    3  South Africa                         426.166              6,979.440"
      ]
     },
     "metadata": {},
     "output_type": "display_data"
    }
   ],
   "source": [
    "gdp_data = pd.read_excel(os.getcwd()+'/GDP_africa.xlsx')\n",
    "display(gdp_data[:3])"
   ]
  },
  {
   "cell_type": "code",
   "execution_count": 7,
   "id": "14c7bfac",
   "metadata": {
    "scrolled": true
   },
   "outputs": [
    {
     "data": {
      "text/html": [
       "<div>\n",
       "<style scoped>\n",
       "    .dataframe tbody tr th:only-of-type {\n",
       "        vertical-align: middle;\n",
       "    }\n",
       "\n",
       "    .dataframe tbody tr th {\n",
       "        vertical-align: top;\n",
       "    }\n",
       "\n",
       "    .dataframe thead th {\n",
       "        text-align: right;\n",
       "    }\n",
       "</style>\n",
       "<table border=\"1\" class=\"dataframe\">\n",
       "  <thead>\n",
       "    <tr style=\"text-align: right;\">\n",
       "      <th></th>\n",
       "      <th>country</th>\n",
       "      <th>1800</th>\n",
       "      <th>1801</th>\n",
       "      <th>1802</th>\n",
       "      <th>1803</th>\n",
       "      <th>1804</th>\n",
       "      <th>1805</th>\n",
       "      <th>1806</th>\n",
       "      <th>1807</th>\n",
       "      <th>1808</th>\n",
       "      <th>...</th>\n",
       "      <th>2031</th>\n",
       "      <th>2032</th>\n",
       "      <th>2033</th>\n",
       "      <th>2034</th>\n",
       "      <th>2035</th>\n",
       "      <th>2036</th>\n",
       "      <th>2037</th>\n",
       "      <th>2038</th>\n",
       "      <th>2039</th>\n",
       "      <th>2040</th>\n",
       "    </tr>\n",
       "  </thead>\n",
       "  <tbody>\n",
       "    <tr>\n",
       "      <th>0</th>\n",
       "      <td>Algeria</td>\n",
       "      <td>715</td>\n",
       "      <td>716</td>\n",
       "      <td>717</td>\n",
       "      <td>718</td>\n",
       "      <td>719</td>\n",
       "      <td>720</td>\n",
       "      <td>721</td>\n",
       "      <td>722</td>\n",
       "      <td>723</td>\n",
       "      <td>...</td>\n",
       "      <td>14300</td>\n",
       "      <td>14600</td>\n",
       "      <td>14900</td>\n",
       "      <td>15200</td>\n",
       "      <td>15500</td>\n",
       "      <td>15800</td>\n",
       "      <td>16100</td>\n",
       "      <td>16500</td>\n",
       "      <td>16800</td>\n",
       "      <td>17100</td>\n",
       "    </tr>\n",
       "    <tr>\n",
       "      <th>1</th>\n",
       "      <td>Angola</td>\n",
       "      <td>618</td>\n",
       "      <td>620</td>\n",
       "      <td>623</td>\n",
       "      <td>626</td>\n",
       "      <td>628</td>\n",
       "      <td>631</td>\n",
       "      <td>634</td>\n",
       "      <td>637</td>\n",
       "      <td>640</td>\n",
       "      <td>...</td>\n",
       "      <td>6110</td>\n",
       "      <td>6230</td>\n",
       "      <td>6350</td>\n",
       "      <td>6480</td>\n",
       "      <td>6610</td>\n",
       "      <td>6750</td>\n",
       "      <td>6880</td>\n",
       "      <td>7020</td>\n",
       "      <td>7170</td>\n",
       "      <td>7310</td>\n",
       "    </tr>\n",
       "    <tr>\n",
       "      <th>2</th>\n",
       "      <td>Benin</td>\n",
       "      <td>597</td>\n",
       "      <td>597</td>\n",
       "      <td>597</td>\n",
       "      <td>597</td>\n",
       "      <td>597</td>\n",
       "      <td>597</td>\n",
       "      <td>597</td>\n",
       "      <td>597</td>\n",
       "      <td>597</td>\n",
       "      <td>...</td>\n",
       "      <td>3310</td>\n",
       "      <td>3380</td>\n",
       "      <td>3450</td>\n",
       "      <td>3520</td>\n",
       "      <td>3590</td>\n",
       "      <td>3660</td>\n",
       "      <td>3740</td>\n",
       "      <td>3810</td>\n",
       "      <td>3890</td>\n",
       "      <td>3970</td>\n",
       "    </tr>\n",
       "  </tbody>\n",
       "</table>\n",
       "<p>3 rows × 242 columns</p>\n",
       "</div>"
      ],
      "text/plain": [
       "   country  1800  1801  1802  1803  1804  1805  1806  1807  1808  ...   2031  \\\n",
       "0  Algeria   715   716   717   718   719   720   721   722   723  ...  14300   \n",
       "1   Angola   618   620   623   626   628   631   634   637   640  ...   6110   \n",
       "2    Benin   597   597   597   597   597   597   597   597   597  ...   3310   \n",
       "\n",
       "    2032   2033   2034   2035   2036   2037   2038   2039   2040  \n",
       "0  14600  14900  15200  15500  15800  16100  16500  16800  17100  \n",
       "1   6230   6350   6480   6610   6750   6880   7020   7170   7310  \n",
       "2   3380   3450   3520   3590   3660   3740   3810   3890   3970  \n",
       "\n",
       "[3 rows x 242 columns]"
      ]
     },
     "metadata": {},
     "output_type": "display_data"
    }
   ],
   "source": [
    "income_per_person = pd.read_csv(os.getcwd()+'/income_per_person_gdppercapita_ppp_inflation_adjusted.csv')\n",
    "display(income_per_person[:3])"
   ]
  },
  {
   "cell_type": "markdown",
   "id": "9085127c",
   "metadata": {},
   "source": [
    "## III. Data Cleaning<a class=\"anchor\" id=\"datacleaning\"></a>"
   ]
  },
  {
   "cell_type": "markdown",
   "id": "a2610c49",
   "metadata": {},
   "source": [
    "#### Malnutrition Dataset"
   ]
  },
  {
   "cell_type": "code",
   "execution_count": 8,
   "id": "2e1075a3",
   "metadata": {
    "scrolled": true
   },
   "outputs": [
    {
     "data": {
      "text/plain": [
       "Country                              0\n",
       "Year*                                0\n",
       "Region                               0\n",
       "World Bank Income Classification     0\n",
       "World Bank Region                    0\n",
       "Severe Wasting                      47\n",
       "Wasting                              7\n",
       "Overweight                          45\n",
       "Stunting                             1\n",
       "Underweight                          6\n",
       "U5 Population ('000s)                0\n",
       "dtype: int64"
      ]
     },
     "execution_count": 8,
     "metadata": {},
     "output_type": "execute_result"
    }
   ],
   "source": [
    "#Cleaning Malnutrition dataset\n",
    "malnutrition_data.isnull().sum()"
   ]
  },
  {
   "cell_type": "code",
   "execution_count": 9,
   "id": "1d71a4b4",
   "metadata": {},
   "outputs": [
    {
     "name": "stdout",
     "output_type": "stream",
     "text": [
      "Null values after updating dataset\n",
      "\n",
      "\n",
      "Country                             0\n",
      "Year*                               0\n",
      "Region                              0\n",
      "World Bank Income Classification    0\n",
      "World Bank Region                   0\n",
      "Severe Wasting                      0\n",
      "Wasting                             0\n",
      "Overweight                          0\n",
      "Stunting                            0\n",
      "Underweight                         0\n",
      "U5 Population ('000s)               0\n",
      "dtype: int64\n"
     ]
    }
   ],
   "source": [
    "from sklearn.impute import SimpleImputer\n",
    "import numpy as np\n",
    "malnutrition_data= malnutrition_data.dropna(subset = ['Wasting','Stunting', 'Underweight' ])\n",
    "imputer = SimpleImputer(missing_values = np.nan, strategy = 'median')\n",
    "malnutrition_data[['Severe Wasting']] = imputer.fit_transform(malnutrition_data[['Severe Wasting']])\n",
    "malnutrition_data[['Overweight']]= imputer.fit_transform(malnutrition_data[['Overweight']])\n",
    "print(\"Null values after updating dataset\")\n",
    "print(\"\\n\")\n",
    "print(malnutrition_data.isnull().sum())"
   ]
  },
  {
   "cell_type": "markdown",
   "id": "1b9441f4",
   "metadata": {},
   "source": [
    "#### Gini Dataset"
   ]
  },
  {
   "cell_type": "code",
   "execution_count": 10,
   "id": "0617323d",
   "metadata": {
    "scrolled": true
   },
   "outputs": [
    {
     "data": {
      "text/plain": [
       "Country_gini     0\n",
       "Subregion        0\n",
       "Region           0\n",
       "Years            3\n",
       "WB Gini[4] %     3\n",
       "CIA Gini[6] %    3\n",
       "dtype: int64"
      ]
     },
     "execution_count": 10,
     "metadata": {},
     "output_type": "execute_result"
    }
   ],
   "source": [
    "#cleaning Gini Dataset\n",
    "gini_data.isnull().sum()"
   ]
  },
  {
   "cell_type": "code",
   "execution_count": 11,
   "id": "30f42fa9",
   "metadata": {},
   "outputs": [
    {
     "name": "stdout",
     "output_type": "stream",
     "text": [
      "Null values after updating dataset\n",
      "\n",
      "\n",
      "Country_gini     0\n",
      "Subregion        0\n",
      "Region           0\n",
      "Years            0\n",
      "WB Gini[4] %     0\n",
      "CIA Gini[6] %    0\n",
      "dtype: int64\n"
     ]
    }
   ],
   "source": [
    "gini_data= gini_data.dropna(subset = ['Years','WB Gini[4] %','CIA Gini[6] %' ])                                      \n",
    "print(\"Null values after updating dataset\")\n",
    "print(\"\\n\")\n",
    "print(gini_data.isnull().sum())"
   ]
  },
  {
   "cell_type": "markdown",
   "id": "94c8908b",
   "metadata": {},
   "source": [
    "#### Income per person"
   ]
  },
  {
   "cell_type": "code",
   "execution_count": 12,
   "id": "d4dc9f98",
   "metadata": {},
   "outputs": [
    {
     "data": {
      "text/plain": [
       "country    0\n",
       "1800       0\n",
       "1801       0\n",
       "1802       0\n",
       "1803       0\n",
       "          ..\n",
       "2036       0\n",
       "2037       0\n",
       "2038       0\n",
       "2039       0\n",
       "2040       0\n",
       "Length: 242, dtype: int64"
      ]
     },
     "execution_count": 12,
     "metadata": {},
     "output_type": "execute_result"
    }
   ],
   "source": [
    "#cleaning income per person\n",
    "income_per_person.isnull().sum()"
   ]
  },
  {
   "cell_type": "code",
   "execution_count": 13,
   "id": "b9c93252",
   "metadata": {},
   "outputs": [],
   "source": [
    "income_per_person = income_per_person.melt(id_vars=['country'], var_name='year', value_name='Income_per_person')"
   ]
  },
  {
   "cell_type": "code",
   "execution_count": 14,
   "id": "5cf4eaa4",
   "metadata": {},
   "outputs": [
    {
     "data": {
      "text/plain": [
       "Rank                               0\n",
       "Country_gdp                        0\n",
       "Nominal GDP (Billion US$)[7][8]    0\n",
       "Per Capita (US$)[7][8]             0\n",
       "dtype: int64"
      ]
     },
     "execution_count": 14,
     "metadata": {},
     "output_type": "execute_result"
    }
   ],
   "source": [
    "gdp_data.isnull().sum()"
   ]
  },
  {
   "cell_type": "markdown",
   "id": "d8a5844d",
   "metadata": {},
   "source": [
    "#### Concatenating Datasets"
   ]
  },
  {
   "cell_type": "code",
   "execution_count": 15,
   "id": "ff35c5c7",
   "metadata": {},
   "outputs": [
    {
     "data": {
      "text/html": [
       "<div>\n",
       "<style scoped>\n",
       "    .dataframe tbody tr th:only-of-type {\n",
       "        vertical-align: middle;\n",
       "    }\n",
       "\n",
       "    .dataframe tbody tr th {\n",
       "        vertical-align: top;\n",
       "    }\n",
       "\n",
       "    .dataframe thead th {\n",
       "        text-align: right;\n",
       "    }\n",
       "</style>\n",
       "<table border=\"1\" class=\"dataframe\">\n",
       "  <thead>\n",
       "    <tr style=\"text-align: right;\">\n",
       "      <th></th>\n",
       "      <th>Rank</th>\n",
       "      <th>Country_gdp</th>\n",
       "      <th>Nominal GDP (Billion US$)[7][8]</th>\n",
       "      <th>Per Capita (US$)[7][8]</th>\n",
       "      <th>Country_gini</th>\n",
       "      <th>Subregion</th>\n",
       "      <th>Region</th>\n",
       "      <th>Years</th>\n",
       "      <th>WB Gini[4] %</th>\n",
       "      <th>CIA Gini[6] %</th>\n",
       "    </tr>\n",
       "  </thead>\n",
       "  <tbody>\n",
       "    <tr>\n",
       "      <th>0</th>\n",
       "      <td>1</td>\n",
       "      <td>Nigeria</td>\n",
       "      <td>510.588</td>\n",
       "      <td>2,355.688</td>\n",
       "      <td>Algeria</td>\n",
       "      <td>Northern Africa</td>\n",
       "      <td>Africa</td>\n",
       "      <td>2011.0</td>\n",
       "      <td>27.6</td>\n",
       "      <td>27.6</td>\n",
       "    </tr>\n",
       "    <tr>\n",
       "      <th>1</th>\n",
       "      <td>2</td>\n",
       "      <td>Egypt</td>\n",
       "      <td>435.621</td>\n",
       "      <td>4,162.081</td>\n",
       "      <td>Angola</td>\n",
       "      <td>Middle Africa</td>\n",
       "      <td>Africa</td>\n",
       "      <td>2018.0</td>\n",
       "      <td>51.3</td>\n",
       "      <td>51.3</td>\n",
       "    </tr>\n",
       "    <tr>\n",
       "      <th>2</th>\n",
       "      <td>3</td>\n",
       "      <td>South Africa</td>\n",
       "      <td>426.166</td>\n",
       "      <td>6,979.440</td>\n",
       "      <td>Benin</td>\n",
       "      <td>Western Africa</td>\n",
       "      <td>Africa</td>\n",
       "      <td>2018.0</td>\n",
       "      <td>37.8</td>\n",
       "      <td>47.8</td>\n",
       "    </tr>\n",
       "    <tr>\n",
       "      <th>3</th>\n",
       "      <td>4</td>\n",
       "      <td>Algeria</td>\n",
       "      <td>193.601</td>\n",
       "      <td>4,294.418</td>\n",
       "      <td>Botswana</td>\n",
       "      <td>Southern Africa</td>\n",
       "      <td>Africa</td>\n",
       "      <td>2015.0</td>\n",
       "      <td>53.3</td>\n",
       "      <td>53.3</td>\n",
       "    </tr>\n",
       "    <tr>\n",
       "      <th>4</th>\n",
       "      <td>5</td>\n",
       "      <td>Morocco</td>\n",
       "      <td>133.062</td>\n",
       "      <td>3,628.641</td>\n",
       "      <td>Burkina Faso</td>\n",
       "      <td>Western Africa</td>\n",
       "      <td>Africa</td>\n",
       "      <td>2018.0</td>\n",
       "      <td>47.3</td>\n",
       "      <td>35.3</td>\n",
       "    </tr>\n",
       "  </tbody>\n",
       "</table>\n",
       "</div>"
      ],
      "text/plain": [
       "  Rank   Country_gdp Nominal GDP (Billion US$)[7][8] Per Capita (US$)[7][8]  \\\n",
       "0    1       Nigeria                         510.588              2,355.688   \n",
       "1    2         Egypt                         435.621              4,162.081   \n",
       "2    3  South Africa                         426.166              6,979.440   \n",
       "3    4       Algeria                         193.601              4,294.418   \n",
       "4    5       Morocco                         133.062              3,628.641   \n",
       "\n",
       "   Country_gini        Subregion  Region   Years  WB Gini[4] %  CIA Gini[6] %  \n",
       "0       Algeria  Northern Africa  Africa  2011.0          27.6           27.6  \n",
       "1        Angola    Middle Africa  Africa  2018.0          51.3           51.3  \n",
       "2         Benin   Western Africa  Africa  2018.0          37.8           47.8  \n",
       "3      Botswana  Southern Africa  Africa  2015.0          53.3           53.3  \n",
       "4  Burkina Faso   Western Africa  Africa  2018.0          47.3           35.3  "
      ]
     },
     "execution_count": 15,
     "metadata": {},
     "output_type": "execute_result"
    }
   ],
   "source": [
    "#gdp and gini datasets\n",
    "economic_data = pd.concat([gdp_data,gini_data],axis=1)\n",
    "economic_data.head()"
   ]
  },
  {
   "cell_type": "code",
   "execution_count": 16,
   "id": "20e1c600",
   "metadata": {},
   "outputs": [
    {
     "data": {
      "text/plain": [
       "Rank                               0\n",
       "Country_gdp                        0\n",
       "Nominal GDP (Billion US$)[7][8]    0\n",
       "Per Capita (US$)[7][8]             0\n",
       "Country_gini                       5\n",
       "Subregion                          5\n",
       "Region                             5\n",
       "Years                              5\n",
       "WB Gini[4] %                       5\n",
       "CIA Gini[6] %                      5\n",
       "dtype: int64"
      ]
     },
     "execution_count": 16,
     "metadata": {},
     "output_type": "execute_result"
    }
   ],
   "source": [
    "economic_data.isnull().sum()"
   ]
  },
  {
   "cell_type": "code",
   "execution_count": 17,
   "id": "46d0c704",
   "metadata": {},
   "outputs": [
    {
     "name": "stdout",
     "output_type": "stream",
     "text": [
      "Null values after updating dataset\n",
      "\n",
      "\n",
      "Rank                               0\n",
      "Country_gdp                        0\n",
      "Nominal GDP (Billion US$)[7][8]    0\n",
      "Per Capita (US$)[7][8]             0\n",
      "Country_gini                       0\n",
      "Subregion                          0\n",
      "Region                             0\n",
      "Years                              0\n",
      "WB Gini[4] %                       0\n",
      "CIA Gini[6] %                      0\n",
      "dtype: int64\n"
     ]
    }
   ],
   "source": [
    "economic_data= economic_data.dropna(subset = ['Country_gini','Subregion','Region','Years','WB Gini[4] %','CIA Gini[6] %' ])\n",
    "print(\"Null values after updating dataset\")\n",
    "print(\"\\n\")\n",
    "print(economic_data.isnull().sum())"
   ]
  },
  {
   "cell_type": "code",
   "execution_count": 18,
   "id": "9a462822",
   "metadata": {},
   "outputs": [
    {
     "data": {
      "text/html": [
       "<div>\n",
       "<style scoped>\n",
       "    .dataframe tbody tr th:only-of-type {\n",
       "        vertical-align: middle;\n",
       "    }\n",
       "\n",
       "    .dataframe tbody tr th {\n",
       "        vertical-align: top;\n",
       "    }\n",
       "\n",
       "    .dataframe thead th {\n",
       "        text-align: right;\n",
       "    }\n",
       "</style>\n",
       "<table border=\"1\" class=\"dataframe\">\n",
       "  <thead>\n",
       "    <tr style=\"text-align: right;\">\n",
       "      <th></th>\n",
       "      <th>Country</th>\n",
       "      <th>Year*</th>\n",
       "      <th>Region</th>\n",
       "      <th>World Bank Income Classification</th>\n",
       "      <th>World Bank Region</th>\n",
       "      <th>Severe Wasting</th>\n",
       "      <th>Wasting</th>\n",
       "      <th>Overweight</th>\n",
       "      <th>Stunting</th>\n",
       "      <th>Underweight</th>\n",
       "      <th>U5 Population ('000s)</th>\n",
       "      <th>Rank</th>\n",
       "      <th>Country_gdp</th>\n",
       "      <th>Nominal GDP (Billion US$)[7][8]</th>\n",
       "      <th>Per Capita (US$)[7][8]</th>\n",
       "    </tr>\n",
       "  </thead>\n",
       "  <tbody>\n",
       "    <tr>\n",
       "      <th>0</th>\n",
       "      <td>ANGOLA</td>\n",
       "      <td>1996</td>\n",
       "      <td>Africa</td>\n",
       "      <td>Lower Middle Income</td>\n",
       "      <td>Sub-Saharan Africa</td>\n",
       "      <td>1.8</td>\n",
       "      <td>7.7</td>\n",
       "      <td>1.7</td>\n",
       "      <td>61.1</td>\n",
       "      <td>36.2</td>\n",
       "      <td>2749.750000</td>\n",
       "      <td>1</td>\n",
       "      <td>Nigeria</td>\n",
       "      <td>510.588</td>\n",
       "      <td>2,355.688</td>\n",
       "    </tr>\n",
       "    <tr>\n",
       "      <th>1</th>\n",
       "      <td>ANGOLA</td>\n",
       "      <td>2007</td>\n",
       "      <td>Africa</td>\n",
       "      <td>Lower Middle Income</td>\n",
       "      <td>Sub-Saharan Africa</td>\n",
       "      <td>4.3</td>\n",
       "      <td>8.2</td>\n",
       "      <td>3.6</td>\n",
       "      <td>29.2</td>\n",
       "      <td>15.6</td>\n",
       "      <td>3998.053955</td>\n",
       "      <td>2</td>\n",
       "      <td>Egypt</td>\n",
       "      <td>435.621</td>\n",
       "      <td>4,162.081</td>\n",
       "    </tr>\n",
       "    <tr>\n",
       "      <th>2</th>\n",
       "      <td>ANGOLA</td>\n",
       "      <td>2015</td>\n",
       "      <td>Africa</td>\n",
       "      <td>Lower Middle Income</td>\n",
       "      <td>Sub-Saharan Africa</td>\n",
       "      <td>1.1</td>\n",
       "      <td>4.9</td>\n",
       "      <td>3.4</td>\n",
       "      <td>37.6</td>\n",
       "      <td>19.0</td>\n",
       "      <td>5192.357910</td>\n",
       "      <td>3</td>\n",
       "      <td>South Africa</td>\n",
       "      <td>426.166</td>\n",
       "      <td>6,979.440</td>\n",
       "    </tr>\n",
       "    <tr>\n",
       "      <th>3</th>\n",
       "      <td>BURUNDI</td>\n",
       "      <td>1987</td>\n",
       "      <td>Africa</td>\n",
       "      <td>Low Income</td>\n",
       "      <td>Sub-Saharan Africa</td>\n",
       "      <td>1.3</td>\n",
       "      <td>6.7</td>\n",
       "      <td>1.3</td>\n",
       "      <td>56.2</td>\n",
       "      <td>33.6</td>\n",
       "      <td>1021.437012</td>\n",
       "      <td>4</td>\n",
       "      <td>Algeria</td>\n",
       "      <td>193.601</td>\n",
       "      <td>4,294.418</td>\n",
       "    </tr>\n",
       "    <tr>\n",
       "      <th>4</th>\n",
       "      <td>BURUNDI</td>\n",
       "      <td>2000</td>\n",
       "      <td>Africa</td>\n",
       "      <td>Low Income</td>\n",
       "      <td>Sub-Saharan Africa</td>\n",
       "      <td>1.6</td>\n",
       "      <td>8.1</td>\n",
       "      <td>1.5</td>\n",
       "      <td>64.0</td>\n",
       "      <td>39.1</td>\n",
       "      <td>1155.817017</td>\n",
       "      <td>5</td>\n",
       "      <td>Morocco</td>\n",
       "      <td>133.062</td>\n",
       "      <td>3,628.641</td>\n",
       "    </tr>\n",
       "  </tbody>\n",
       "</table>\n",
       "</div>"
      ],
      "text/plain": [
       "  Country   Year*  Region World Bank Income Classification  \\\n",
       "0   ANGOLA   1996  Africa              Lower Middle Income   \n",
       "1   ANGOLA   2007  Africa              Lower Middle Income   \n",
       "2   ANGOLA   2015  Africa              Lower Middle Income   \n",
       "3  BURUNDI   1987  Africa                       Low Income   \n",
       "4  BURUNDI   2000  Africa                       Low Income   \n",
       "\n",
       "    World Bank Region  Severe Wasting  Wasting  Overweight  Stunting  \\\n",
       "0  Sub-Saharan Africa             1.8      7.7         1.7      61.1   \n",
       "1  Sub-Saharan Africa             4.3      8.2         3.6      29.2   \n",
       "2  Sub-Saharan Africa             1.1      4.9         3.4      37.6   \n",
       "3  Sub-Saharan Africa             1.3      6.7         1.3      56.2   \n",
       "4  Sub-Saharan Africa             1.6      8.1         1.5      64.0   \n",
       "\n",
       "   Underweight  U5 Population ('000s) Rank   Country_gdp  \\\n",
       "0         36.2            2749.750000    1       Nigeria   \n",
       "1         15.6            3998.053955    2         Egypt   \n",
       "2         19.0            5192.357910    3  South Africa   \n",
       "3         33.6            1021.437012    4       Algeria   \n",
       "4         39.1            1155.817017    5       Morocco   \n",
       "\n",
       "  Nominal GDP (Billion US$)[7][8] Per Capita (US$)[7][8]  \n",
       "0                         510.588              2,355.688  \n",
       "1                         435.621              4,162.081  \n",
       "2                         426.166              6,979.440  \n",
       "3                         193.601              4,294.418  \n",
       "4                         133.062              3,628.641  "
      ]
     },
     "execution_count": 18,
     "metadata": {},
     "output_type": "execute_result"
    }
   ],
   "source": [
    "#malnutrition and gdp datasets\n",
    "malnutrition_gdp_data = pd.concat([malnutrition_data,gdp_data],axis=1)\n",
    "malnutrition_gdp_data.head()"
   ]
  },
  {
   "cell_type": "code",
   "execution_count": 19,
   "id": "1c48d0be",
   "metadata": {},
   "outputs": [
    {
     "data": {
      "text/plain": [
       "Country                               0\n",
       "Year*                                 0\n",
       "Region                                0\n",
       "World Bank Income Classification      0\n",
       "World Bank Region                     0\n",
       "Severe Wasting                        0\n",
       "Wasting                               0\n",
       "Overweight                            0\n",
       "Stunting                              0\n",
       "Underweight                           0\n",
       "U5 Population ('000s)                 0\n",
       "Rank                                324\n",
       "Country_gdp                         324\n",
       "Nominal GDP (Billion US$)[7][8]     324\n",
       "Per Capita (US$)[7][8]              324\n",
       "dtype: int64"
      ]
     },
     "execution_count": 19,
     "metadata": {},
     "output_type": "execute_result"
    }
   ],
   "source": [
    "malnutrition_gdp_data.isnull().sum()"
   ]
  },
  {
   "cell_type": "code",
   "execution_count": 20,
   "id": "2bb88395",
   "metadata": {},
   "outputs": [
    {
     "name": "stdout",
     "output_type": "stream",
     "text": [
      "Null values after updating dataset\n",
      "\n",
      "\n",
      "Country                             0\n",
      "Year*                               0\n",
      "Region                              0\n",
      "World Bank Income Classification    0\n",
      "World Bank Region                   0\n",
      "Severe Wasting                      0\n",
      "Wasting                             0\n",
      "Overweight                          0\n",
      "Stunting                            0\n",
      "Underweight                         0\n",
      "U5 Population ('000s)               0\n",
      "Rank                                0\n",
      "Country_gdp                         0\n",
      "Nominal GDP (Billion US$)[7][8]     0\n",
      "Per Capita (US$)[7][8]              0\n",
      "dtype: int64\n"
     ]
    }
   ],
   "source": [
    "from sklearn.impute import SimpleImputer\n",
    "import numpy as np\n",
    "malnutrition_gdp_data= malnutrition_gdp_data.dropna(subset = ['Country_gdp' ])\n",
    "\n",
    "#imputer = SimpleImputer(missing_values = np.nan, strategy = 'median')\n",
    "#malnutrition_gdp_data[['Rank']] = imputer.fit_transform(malnutrition_gdp_data[['Rank']])\n",
    "#malnutrition_gdp_data[['Nominal GDP (Billion US$)[7][8]']]= imputer.fit_transform(malnutrition_gdp_data[['Nominal GDP (Billion US$)[7][8]']])\n",
    "#malnutrition_gdp_data[['Per Capita (US$)[7][8] ']]= imputer.fit_transform(malnutrition_gdp_data[['Per Capita (US$)[7][8] ']])\n",
    "print(\"Null values after updating dataset\")\n",
    "print(\"\\n\")\n",
    "print(malnutrition_gdp_data.isnull().sum())"
   ]
  },
  {
   "cell_type": "markdown",
   "id": "ef0d4c5a",
   "metadata": {},
   "source": [
    "## IV. Visualizations for African Malnutrition Problem<a class=\"anchor\" id=\"visualizations\"></a>"
   ]
  },
  {
   "cell_type": "markdown",
   "id": "d649c31d",
   "metadata": {},
   "source": [
    "### 1. Histograms <a class=\"anchor\" id=\"histogram\"></a>"
   ]
  },
  {
   "cell_type": "code",
   "execution_count": 27,
   "id": "e128c5e7",
   "metadata": {},
   "outputs": [
    {
     "data": {
      "image/png": "[encoded data removed]",
      "text/plain": [
       "<Figure size 1080x720 with 4 Axes>"
      ]
     },
     "metadata": {
      "needs_background": "light"
     },
     "output_type": "display_data"
    }
   ],
   "source": [
    "# now observe overweight/waste/stunt \n",
    "fig, axis = plt.subplots(2,2) \n",
    "fig.suptitle(\"Africa's Children Malnutrition Histogram\", fontsize=20)\n",
    "\n",
    "# Overweight\n",
    "axis[0,0].hist(malnutrition_gdp_data['Overweight'],bins=30,color='royalblue',alpha=0.5)\n",
    "#axis[0,0].set_title(\"Overweight\")\n",
    "axis[0,0].set_xlabel('Overweight', fontsize=14)\n",
    "axis[0,0].set_ylabel('Number of Countries')\n",
    "\n",
    "# Waste\n",
    "axis[0,1].hist(malnutrition_gdp_data['Wasting'],bins=30,color='orange',alpha=0.5)\n",
    "#axis[0,1].set_title(\"Waste\")\n",
    "axis[0,1].set_xlabel('Wasting', fontsize=14)\n",
    "axis[0,1].set_ylabel('Number of Countries')\n",
    "\n",
    "# Stunt\n",
    "axis[1,0].hist(malnutrition_gdp_data['Stunting'],bins=30,color='forestgreen',alpha=0.5)\n",
    "#axis[1,0].set_title(\"Stunt\")\n",
    "axis[1,0].set_xlabel('Stunting', fontsize=14)\n",
    "axis[1,0].set_ylabel('Number of Countries')\n",
    "\n",
    "# Underweight\n",
    "axis[1,1].hist(malnutrition_gdp_data['Underweight'],bins=30,color='forestgreen',alpha=0.5)\n",
    "#axis[1,1].set_title(\"Stunt\")\n",
    "axis[1,1].set_xlabel('Underweight', fontsize=14)\n",
    "axis[1,1].set_ylabel('Number of Countries')\n",
    "\n",
    "\n",
    "fig.set_size_inches(15, 10)\n",
    "plt.show()"
   ]
  },
  {
   "cell_type": "code",
   "execution_count": 28,
   "id": "09f4b4a2",
   "metadata": {},
   "outputs": [
    {
     "data": {
      "image/png": "[encoded data removed]",
      "text/plain": [
       "<Figure size 1080x576 with 1 Axes>"
      ]
     },
     "metadata": {
      "needs_background": "light"
     },
     "output_type": "display_data"
    }
   ],
   "source": [
    "plt.figure(figsize=(15, 8))\n",
    "plt.hist(malnutrition_gdp_data['Overweight'],bins=30,color='deepskyblue',alpha=0.5)\n",
    "plt.hist(malnutrition_gdp_data['Wasting'],bins=30,color='royalblue',alpha=0.5)\n",
    "plt.hist(malnutrition_gdp_data['Stunting'],bins=30,color='orange',alpha=0.5)\n",
    "plt.hist(malnutrition_gdp_data['Underweight'],bins=30,color='forestgreen',alpha=0.5)\n",
    "plt.xlabel('Combined_Hist', fontsize=14)\n",
    "plt.ylabel('Number of countries', fontsize=14)\n",
    "plt.title('Combined Africa Malnutrition Analysis Histogram', fontsize=20)\n",
    "plt.show()"
   ]
  },
  {
   "cell_type": "markdown",
   "id": "73e8f7e3",
   "metadata": {},
   "source": [
    "### 2. Boxplots<a class=\"anchor\" id=\"boxplot\"></a>"
   ]
  },
  {
   "cell_type": "code",
   "execution_count": 30,
   "id": "06bba677",
   "metadata": {},
   "outputs": [
    {
     "data": {
      "image/png": "[encoded data removed]",
      "text/plain": [
       "<Figure size 1080x720 with 4 Axes>"
      ]
     },
     "metadata": {
      "needs_background": "light"
     },
     "output_type": "display_data"
    }
   ],
   "source": [
    "#now observing overweight/waste/stunt/Underweight \n",
    "fig, axis2 = plt.subplots(2,2) \n",
    "fig.suptitle(\"African's Children Malnutrition Boxplot\", fontsize=20)\n",
    "\n",
    "# Mean\n",
    "axis2[0,0].boxplot(malnutrition_gdp_data['Overweight'])\n",
    "axis2[0,0].set_title(\"Overweight\", fontsize=14)\n",
    "\n",
    "# Overweight\n",
    "axis2[0,1].boxplot(malnutrition_gdp_data['Wasting'])\n",
    "axis2[0,1].set_title(\"Wasting\", fontsize=14)\n",
    "\n",
    "# Waste\n",
    "axis2[1,0].boxplot(malnutrition_gdp_data['Stunting'])\n",
    "axis2[1,0].set_title(\"Stunting\", fontsize=14)\n",
    "\n",
    "# Stunt\n",
    "axis2[1,1].boxplot(malnutrition_gdp_data['Underweight'])\n",
    "axis2[1,1].set_title(\"Underweight\", fontsize=14)\n",
    "\n",
    "fig.set_size_inches(15, 10)\n",
    "plt.show()\n"
   ]
  },
  {
   "cell_type": "code",
   "execution_count": null,
   "id": "3b540b71",
   "metadata": {},
   "outputs": [],
   "source": []
  }
 ],
 "metadata": {
  "kernelspec": {
   "display_name": "Python 3 (ipykernel)",
   "language": "python",
   "name": "python3"
  },
  "language_info": {
   "codemirror_mode": {
    "name": "ipython",
    "version": 3
   },
   "file_extension": ".py",
   "mimetype": "text/x-python",
   "name": "python",
   "nbconvert_exporter": "python",
   "pygments_lexer": "ipython3",
   "version": "3.9.12"
  }
 },
 "nbformat": 4,
 "nbformat_minor": 5
}
